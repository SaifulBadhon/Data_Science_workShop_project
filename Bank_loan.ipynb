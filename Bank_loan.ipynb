{
  "nbformat": 4,
  "nbformat_minor": 0,
  "metadata": {
    "colab": {
      "name": "Bank_loan.ipynb",
      "provenance": []
    },
    "kernelspec": {
      "name": "python3",
      "display_name": "Python 3"
    },
    "accelerator": "GPU"
  },
  "cells": [
    {
      "cell_type": "code",
      "metadata": {
        "id": "BzZM3REElLDC",
        "colab_type": "code",
        "colab": {}
      },
      "source": [
        "import pandas as pd\n",
        "import matplotlib.pyplot as plt\n",
        "import seaborn as sns\n",
        "from sklearn import preprocessing"
      ],
      "execution_count": 45,
      "outputs": []
    },
    {
      "cell_type": "code",
      "metadata": {
        "id": "53HYxarNleaI",
        "colab_type": "code",
        "colab": {}
      },
      "source": [
        "data = pd.read_csv(\"/content/dataset-2-bankloan.csv\")"
      ],
      "execution_count": 46,
      "outputs": []
    },
    {
      "cell_type": "code",
      "metadata": {
        "id": "XJz1ekpflj0h",
        "colab_type": "code",
        "colab": {}
      },
      "source": [
        "data.drop(['Loan ID','Customer ID'],axis=1,inplace=True)"
      ],
      "execution_count": 47,
      "outputs": []
    },
    {
      "cell_type": "code",
      "metadata": {
        "id": "k8v6PJR4ltiX",
        "colab_type": "code",
        "colab": {
          "base_uri": "https://localhost:8080/",
          "height": 360
        },
        "outputId": "779f506a-d127-4241-9169-eabb310a2c4b"
      },
      "source": [
        "data.head()"
      ],
      "execution_count": 48,
      "outputs": [
        {
          "output_type": "execute_result",
          "data": {
            "text/html": [
              "<div>\n",
              "<style scoped>\n",
              "    .dataframe tbody tr th:only-of-type {\n",
              "        vertical-align: middle;\n",
              "    }\n",
              "\n",
              "    .dataframe tbody tr th {\n",
              "        vertical-align: top;\n",
              "    }\n",
              "\n",
              "    .dataframe thead th {\n",
              "        text-align: right;\n",
              "    }\n",
              "</style>\n",
              "<table border=\"1\" class=\"dataframe\">\n",
              "  <thead>\n",
              "    <tr style=\"text-align: right;\">\n",
              "      <th></th>\n",
              "      <th>Loan Status</th>\n",
              "      <th>Current Loan Amount</th>\n",
              "      <th>Term</th>\n",
              "      <th>Credit Score</th>\n",
              "      <th>Annual Income</th>\n",
              "      <th>Years in current job</th>\n",
              "      <th>Home Ownership</th>\n",
              "      <th>Purpose</th>\n",
              "      <th>Monthly Debt</th>\n",
              "      <th>Years of Credit History</th>\n",
              "      <th>Months since last delinquent</th>\n",
              "      <th>Number of Open Accounts</th>\n",
              "      <th>Number of Credit Problems</th>\n",
              "      <th>Current Credit Balance</th>\n",
              "      <th>Maximum Open Credit</th>\n",
              "      <th>Bankruptcies</th>\n",
              "      <th>Tax Liens</th>\n",
              "    </tr>\n",
              "  </thead>\n",
              "  <tbody>\n",
              "    <tr>\n",
              "      <th>0</th>\n",
              "      <td>Fully Paid</td>\n",
              "      <td>445412.0</td>\n",
              "      <td>Short Term</td>\n",
              "      <td>709.0</td>\n",
              "      <td>1167493.0</td>\n",
              "      <td>8 years</td>\n",
              "      <td>Home Mortgage</td>\n",
              "      <td>Home Improvements</td>\n",
              "      <td>5214.74</td>\n",
              "      <td>17.2</td>\n",
              "      <td>NaN</td>\n",
              "      <td>6.0</td>\n",
              "      <td>1.0</td>\n",
              "      <td>228190.0</td>\n",
              "      <td>416746.0</td>\n",
              "      <td>1.0</td>\n",
              "      <td>0.0</td>\n",
              "    </tr>\n",
              "    <tr>\n",
              "      <th>1</th>\n",
              "      <td>Fully Paid</td>\n",
              "      <td>262328.0</td>\n",
              "      <td>Short Term</td>\n",
              "      <td>NaN</td>\n",
              "      <td>NaN</td>\n",
              "      <td>10+ years</td>\n",
              "      <td>Home Mortgage</td>\n",
              "      <td>Debt Consolidation</td>\n",
              "      <td>33295.98</td>\n",
              "      <td>21.1</td>\n",
              "      <td>8.0</td>\n",
              "      <td>35.0</td>\n",
              "      <td>0.0</td>\n",
              "      <td>229976.0</td>\n",
              "      <td>850784.0</td>\n",
              "      <td>0.0</td>\n",
              "      <td>0.0</td>\n",
              "    </tr>\n",
              "    <tr>\n",
              "      <th>2</th>\n",
              "      <td>Fully Paid</td>\n",
              "      <td>99999999.0</td>\n",
              "      <td>Short Term</td>\n",
              "      <td>741.0</td>\n",
              "      <td>2231892.0</td>\n",
              "      <td>8 years</td>\n",
              "      <td>Own Home</td>\n",
              "      <td>Debt Consolidation</td>\n",
              "      <td>29200.53</td>\n",
              "      <td>14.9</td>\n",
              "      <td>29.0</td>\n",
              "      <td>18.0</td>\n",
              "      <td>1.0</td>\n",
              "      <td>297996.0</td>\n",
              "      <td>750090.0</td>\n",
              "      <td>0.0</td>\n",
              "      <td>0.0</td>\n",
              "    </tr>\n",
              "    <tr>\n",
              "      <th>3</th>\n",
              "      <td>Fully Paid</td>\n",
              "      <td>347666.0</td>\n",
              "      <td>Long Term</td>\n",
              "      <td>721.0</td>\n",
              "      <td>806949.0</td>\n",
              "      <td>3 years</td>\n",
              "      <td>Own Home</td>\n",
              "      <td>Debt Consolidation</td>\n",
              "      <td>8741.90</td>\n",
              "      <td>12.0</td>\n",
              "      <td>NaN</td>\n",
              "      <td>9.0</td>\n",
              "      <td>0.0</td>\n",
              "      <td>256329.0</td>\n",
              "      <td>386958.0</td>\n",
              "      <td>0.0</td>\n",
              "      <td>0.0</td>\n",
              "    </tr>\n",
              "    <tr>\n",
              "      <th>4</th>\n",
              "      <td>Fully Paid</td>\n",
              "      <td>176220.0</td>\n",
              "      <td>Short Term</td>\n",
              "      <td>NaN</td>\n",
              "      <td>NaN</td>\n",
              "      <td>5 years</td>\n",
              "      <td>Rent</td>\n",
              "      <td>Debt Consolidation</td>\n",
              "      <td>20639.70</td>\n",
              "      <td>6.1</td>\n",
              "      <td>NaN</td>\n",
              "      <td>15.0</td>\n",
              "      <td>0.0</td>\n",
              "      <td>253460.0</td>\n",
              "      <td>427174.0</td>\n",
              "      <td>0.0</td>\n",
              "      <td>0.0</td>\n",
              "    </tr>\n",
              "  </tbody>\n",
              "</table>\n",
              "</div>"
            ],
            "text/plain": [
              "  Loan Status  Current Loan Amount  ... Bankruptcies  Tax Liens\n",
              "0  Fully Paid             445412.0  ...          1.0        0.0\n",
              "1  Fully Paid             262328.0  ...          0.0        0.0\n",
              "2  Fully Paid           99999999.0  ...          0.0        0.0\n",
              "3  Fully Paid             347666.0  ...          0.0        0.0\n",
              "4  Fully Paid             176220.0  ...          0.0        0.0\n",
              "\n",
              "[5 rows x 17 columns]"
            ]
          },
          "metadata": {
            "tags": []
          },
          "execution_count": 48
        }
      ]
    },
    {
      "cell_type": "code",
      "metadata": {
        "id": "fCL32ZIslvCb",
        "colab_type": "code",
        "colab": {}
      },
      "source": [
        "#this function find out the percentage of missing value for every volumn\n",
        "def nullFinder(df):\n",
        "    missingStore = {}\n",
        "    for i in df.columns:\n",
        "        if df[i].isna().sum() > 0:\n",
        "            missingStore[i] = (df[i].isna().sum()*100)/df.shape[0]\n",
        "    return missingStore\n",
        "            "
      ],
      "execution_count": 49,
      "outputs": []
    },
    {
      "cell_type": "code",
      "metadata": {
        "id": "M02A6IsblxQE",
        "colab_type": "code",
        "colab": {
          "base_uri": "https://localhost:8080/",
          "height": 323
        },
        "outputId": "8df454fc-1df2-4a58-9ca9-2cee92a0737b"
      },
      "source": [
        "print(\"Percentage of missing value Colun wise\")\n",
        "nullFinder(data)"
      ],
      "execution_count": 50,
      "outputs": [
        {
          "output_type": "stream",
          "text": [
            "Percentage of missing value Colun wise\n"
          ],
          "name": "stdout"
        },
        {
          "output_type": "execute_result",
          "data": {
            "text/plain": [
              "{'Annual Income': 19.56742344350041,\n",
              " 'Bankruptcies': 0.7143283522693357,\n",
              " 'Credit Score': 19.56742344350041,\n",
              " 'Current Credit Balance': 0.5113715502318085,\n",
              " 'Current Loan Amount': 0.5113715502318085,\n",
              " 'Home Ownership': 0.5113715502318085,\n",
              " 'Loan Status': 0.5113715502318085,\n",
              " 'Maximum Open Credit': 0.5133613228008038,\n",
              " 'Monthly Debt': 0.5113715502318085,\n",
              " 'Months since last delinquent': 53.380623594723126,\n",
              " 'Number of Credit Problems': 0.5113715502318085,\n",
              " 'Number of Open Accounts': 0.5113715502318085,\n",
              " 'Purpose': 0.5113715502318085,\n",
              " 'Tax Liens': 0.5213204130767853,\n",
              " 'Term': 0.5113715502318085,\n",
              " 'Years in current job': 4.711781443381022,\n",
              " 'Years of Credit History': 0.5113715502318085}"
            ]
          },
          "metadata": {
            "tags": []
          },
          "execution_count": 50
        }
      ]
    },
    {
      "cell_type": "code",
      "metadata": {
        "id": "gtJJ21U6lzzU",
        "colab_type": "code",
        "colab": {}
      },
      "source": [
        "#we will drop Months since last delinquent column as it has more than 50% missing value\n",
        "data.drop(['Months since last delinquent'],axis = 1, inplace=True)"
      ],
      "execution_count": 51,
      "outputs": []
    },
    {
      "cell_type": "code",
      "metadata": {
        "id": "LEP3x80bl34p",
        "colab_type": "code",
        "colab": {
          "base_uri": "https://localhost:8080/",
          "height": 306
        },
        "outputId": "d201e130-3eb9-4990-f7c7-dfef8d63ba87"
      },
      "source": [
        "print(\"Percentage of missing value Colun wise\")\n",
        "nullFinder(data)"
      ],
      "execution_count": 52,
      "outputs": [
        {
          "output_type": "stream",
          "text": [
            "Percentage of missing value Colun wise\n"
          ],
          "name": "stdout"
        },
        {
          "output_type": "execute_result",
          "data": {
            "text/plain": [
              "{'Annual Income': 19.56742344350041,\n",
              " 'Bankruptcies': 0.7143283522693357,\n",
              " 'Credit Score': 19.56742344350041,\n",
              " 'Current Credit Balance': 0.5113715502318085,\n",
              " 'Current Loan Amount': 0.5113715502318085,\n",
              " 'Home Ownership': 0.5113715502318085,\n",
              " 'Loan Status': 0.5113715502318085,\n",
              " 'Maximum Open Credit': 0.5133613228008038,\n",
              " 'Monthly Debt': 0.5113715502318085,\n",
              " 'Number of Credit Problems': 0.5113715502318085,\n",
              " 'Number of Open Accounts': 0.5113715502318085,\n",
              " 'Purpose': 0.5113715502318085,\n",
              " 'Tax Liens': 0.5213204130767853,\n",
              " 'Term': 0.5113715502318085,\n",
              " 'Years in current job': 4.711781443381022,\n",
              " 'Years of Credit History': 0.5113715502318085}"
            ]
          },
          "metadata": {
            "tags": []
          },
          "execution_count": 52
        }
      ]
    },
    {
      "cell_type": "code",
      "metadata": {
        "id": "zjgj05aJl6Pc",
        "colab_type": "code",
        "colab": {}
      },
      "source": [
        "#filling the missing value of Credit Score and Annual Income  with average"
      ],
      "execution_count": 53,
      "outputs": []
    },
    {
      "cell_type": "code",
      "metadata": {
        "id": "tvU6Gi76l8vQ",
        "colab_type": "code",
        "colab": {}
      },
      "source": [
        "data['Credit Score'].fillna(data['Credit Score'].mean(),inplace=True)\n",
        "data['Annual Income'].fillna(data['Annual Income'].mean(),inplace=True)"
      ],
      "execution_count": 54,
      "outputs": []
    },
    {
      "cell_type": "code",
      "metadata": {
        "id": "Th6H-U4Pl-YL",
        "colab_type": "code",
        "colab": {
          "base_uri": "https://localhost:8080/",
          "height": 272
        },
        "outputId": "ca740678-3775-4805-b16f-91f18c35692c"
      },
      "source": [
        "print(\"Percentage of missing value Colun wise\")\n",
        "nullFinder(data)"
      ],
      "execution_count": 55,
      "outputs": [
        {
          "output_type": "stream",
          "text": [
            "Percentage of missing value Colun wise\n"
          ],
          "name": "stdout"
        },
        {
          "output_type": "execute_result",
          "data": {
            "text/plain": [
              "{'Bankruptcies': 0.7143283522693357,\n",
              " 'Current Credit Balance': 0.5113715502318085,\n",
              " 'Current Loan Amount': 0.5113715502318085,\n",
              " 'Home Ownership': 0.5113715502318085,\n",
              " 'Loan Status': 0.5113715502318085,\n",
              " 'Maximum Open Credit': 0.5133613228008038,\n",
              " 'Monthly Debt': 0.5113715502318085,\n",
              " 'Number of Credit Problems': 0.5113715502318085,\n",
              " 'Number of Open Accounts': 0.5113715502318085,\n",
              " 'Purpose': 0.5113715502318085,\n",
              " 'Tax Liens': 0.5213204130767853,\n",
              " 'Term': 0.5113715502318085,\n",
              " 'Years in current job': 4.711781443381022,\n",
              " 'Years of Credit History': 0.5113715502318085}"
            ]
          },
          "metadata": {
            "tags": []
          },
          "execution_count": 55
        }
      ]
    },
    {
      "cell_type": "code",
      "metadata": {
        "id": "ms_ebLH-mArD",
        "colab_type": "code",
        "colab": {
          "base_uri": "https://localhost:8080/",
          "height": 417
        },
        "outputId": "67cbf4a7-bc12-4f57-f038-0cff99c530d7"
      },
      "source": [
        "plt.figure(figsize=(20,8))\n",
        "\n",
        "sns.countplot(data['Years in current job'])"
      ],
      "execution_count": 56,
      "outputs": [
        {
          "output_type": "execute_result",
          "data": {
            "text/plain": [
              "<matplotlib.axes._subplots.AxesSubplot at 0x7fe6c5f02c18>"
            ]
          },
          "metadata": {
            "tags": []
          },
          "execution_count": 56
        },
        {
          "output_type": "display_data",
          "data": {
            "image/png": "[encoded data removed]",
            "text/plain": [
              "<Figure size 1440x576 with 1 Axes>"
            ]
          },
          "metadata": {
            "tags": [],
            "needs_background": "light"
          }
        }
      ]
    },
    {
      "cell_type": "code",
      "metadata": {
        "id": "VuuB_1QDmDDg",
        "colab_type": "code",
        "colab": {}
      },
      "source": [
        "#maximum in \"Years in current job\" is more than 10 years so we will fill the missing value with this"
      ],
      "execution_count": 57,
      "outputs": []
    },
    {
      "cell_type": "code",
      "metadata": {
        "id": "Cjra4oXHmGP9",
        "colab_type": "code",
        "colab": {}
      },
      "source": [
        "data['Years in current job'].fillna('10+ years',inplace=True)"
      ],
      "execution_count": 58,
      "outputs": []
    },
    {
      "cell_type": "code",
      "metadata": {
        "id": "eeWLQr_2mIEc",
        "colab_type": "code",
        "colab": {
          "base_uri": "https://localhost:8080/",
          "height": 255
        },
        "outputId": "6f784e01-5fb8-405c-e95a-5c92dfab1264"
      },
      "source": [
        "print(\"Percentage of missing value Column wise\")\n",
        "nullFinder(data)"
      ],
      "execution_count": 59,
      "outputs": [
        {
          "output_type": "stream",
          "text": [
            "Percentage of missing value Column wise\n"
          ],
          "name": "stdout"
        },
        {
          "output_type": "execute_result",
          "data": {
            "text/plain": [
              "{'Bankruptcies': 0.7143283522693357,\n",
              " 'Current Credit Balance': 0.5113715502318085,\n",
              " 'Current Loan Amount': 0.5113715502318085,\n",
              " 'Home Ownership': 0.5113715502318085,\n",
              " 'Loan Status': 0.5113715502318085,\n",
              " 'Maximum Open Credit': 0.5133613228008038,\n",
              " 'Monthly Debt': 0.5113715502318085,\n",
              " 'Number of Credit Problems': 0.5113715502318085,\n",
              " 'Number of Open Accounts': 0.5113715502318085,\n",
              " 'Purpose': 0.5113715502318085,\n",
              " 'Tax Liens': 0.5213204130767853,\n",
              " 'Term': 0.5113715502318085,\n",
              " 'Years of Credit History': 0.5113715502318085}"
            ]
          },
          "metadata": {
            "tags": []
          },
          "execution_count": 59
        }
      ]
    },
    {
      "cell_type": "code",
      "metadata": {
        "id": "6DpOYQKimJx0",
        "colab_type": "code",
        "colab": {}
      },
      "source": [
        "# and now all missing value are comming from the last 512 blank rows"
      ],
      "execution_count": 60,
      "outputs": []
    },
    {
      "cell_type": "code",
      "metadata": {
        "id": "6uBvkse4mMxO",
        "colab_type": "code",
        "colab": {}
      },
      "source": [
        "data.dropna(inplace=True)"
      ],
      "execution_count": 61,
      "outputs": []
    },
    {
      "cell_type": "code",
      "metadata": {
        "id": "MRsAme5TmOkc",
        "colab_type": "code",
        "colab": {
          "base_uri": "https://localhost:8080/",
          "height": 51
        },
        "outputId": "f9e702f9-e8c9-43d5-c717-5c4dab5fcffd"
      },
      "source": [
        "print(\"Percentage of missing value Colun wise\")\n",
        "nullFinder(data)"
      ],
      "execution_count": 62,
      "outputs": [
        {
          "output_type": "stream",
          "text": [
            "Percentage of missing value Colun wise\n"
          ],
          "name": "stdout"
        },
        {
          "output_type": "execute_result",
          "data": {
            "text/plain": [
              "{}"
            ]
          },
          "metadata": {
            "tags": []
          },
          "execution_count": 62
        }
      ]
    },
    {
      "cell_type": "code",
      "metadata": {
        "id": "VtOIPaXAmQcv",
        "colab_type": "code",
        "colab": {}
      },
      "source": [
        "#so we don't have any missing values\n",
        "# and we have total 99794 rows and 16 columns"
      ],
      "execution_count": 63,
      "outputs": []
    },
    {
      "cell_type": "code",
      "metadata": {
        "id": "9dKFIp0VmVea",
        "colab_type": "code",
        "colab": {
          "base_uri": "https://localhost:8080/",
          "height": 34
        },
        "outputId": "7c42c02b-418a-4085-8400-e156aa51f052"
      },
      "source": [
        "data.shape"
      ],
      "execution_count": 64,
      "outputs": [
        {
          "output_type": "execute_result",
          "data": {
            "text/plain": [
              "(99794, 16)"
            ]
          },
          "metadata": {
            "tags": []
          },
          "execution_count": 64
        }
      ]
    },
    {
      "cell_type": "code",
      "metadata": {
        "id": "3wJua3wdmWpr",
        "colab_type": "code",
        "colab": {
          "base_uri": "https://localhost:8080/",
          "height": 173
        },
        "outputId": "36faa9f5-82b8-4163-a91d-1c4104bf7468"
      },
      "source": [
        "object_columns = ['Loan Status','Term','Years in current job', 'Home Ownership','Purpose']\n",
        "data.describe(include=\"object\")"
      ],
      "execution_count": 65,
      "outputs": [
        {
          "output_type": "execute_result",
          "data": {
            "text/html": [
              "<div>\n",
              "<style scoped>\n",
              "    .dataframe tbody tr th:only-of-type {\n",
              "        vertical-align: middle;\n",
              "    }\n",
              "\n",
              "    .dataframe tbody tr th {\n",
              "        vertical-align: top;\n",
              "    }\n",
              "\n",
              "    .dataframe thead th {\n",
              "        text-align: right;\n",
              "    }\n",
              "</style>\n",
              "<table border=\"1\" class=\"dataframe\">\n",
              "  <thead>\n",
              "    <tr style=\"text-align: right;\">\n",
              "      <th></th>\n",
              "      <th>Loan Status</th>\n",
              "      <th>Term</th>\n",
              "      <th>Years in current job</th>\n",
              "      <th>Home Ownership</th>\n",
              "      <th>Purpose</th>\n",
              "    </tr>\n",
              "  </thead>\n",
              "  <tbody>\n",
              "    <tr>\n",
              "      <th>count</th>\n",
              "      <td>99794</td>\n",
              "      <td>99794</td>\n",
              "      <td>99794</td>\n",
              "      <td>99794</td>\n",
              "      <td>99794</td>\n",
              "    </tr>\n",
              "    <tr>\n",
              "      <th>unique</th>\n",
              "      <td>2</td>\n",
              "      <td>2</td>\n",
              "      <td>11</td>\n",
              "      <td>4</td>\n",
              "      <td>16</td>\n",
              "    </tr>\n",
              "    <tr>\n",
              "      <th>top</th>\n",
              "      <td>Fully Paid</td>\n",
              "      <td>Short Term</td>\n",
              "      <td>10+ years</td>\n",
              "      <td>Home Mortgage</td>\n",
              "      <td>Debt Consolidation</td>\n",
              "    </tr>\n",
              "    <tr>\n",
              "      <th>freq</th>\n",
              "      <td>77207</td>\n",
              "      <td>72002</td>\n",
              "      <td>35312</td>\n",
              "      <td>48334</td>\n",
              "      <td>78430</td>\n",
              "    </tr>\n",
              "  </tbody>\n",
              "</table>\n",
              "</div>"
            ],
            "text/plain": [
              "       Loan Status        Term  ... Home Ownership             Purpose\n",
              "count        99794       99794  ...          99794               99794\n",
              "unique           2           2  ...              4                  16\n",
              "top     Fully Paid  Short Term  ...  Home Mortgage  Debt Consolidation\n",
              "freq         77207       72002  ...          48334               78430\n",
              "\n",
              "[4 rows x 5 columns]"
            ]
          },
          "metadata": {
            "tags": []
          },
          "execution_count": 65
        }
      ]
    },
    {
      "cell_type": "code",
      "metadata": {
        "id": "cCrRFDxXnPGx",
        "colab_type": "code",
        "colab": {}
      },
      "source": [
        "#label encodding to all string columns\n",
        "le = preprocessing.LabelEncoder()\n",
        "for i in object_columns:\n",
        "    s = le.fit_transform(data[i])\n",
        "    data[i] = s"
      ],
      "execution_count": 66,
      "outputs": []
    },
    {
      "cell_type": "code",
      "metadata": {
        "id": "2IG5BNrdnSgh",
        "colab_type": "code",
        "colab": {
          "base_uri": "https://localhost:8080/",
          "height": 275
        },
        "outputId": "293108bc-3a28-4c74-b47c-e648e960f7dd"
      },
      "source": [
        "data.head()"
      ],
      "execution_count": 67,
      "outputs": [
        {
          "output_type": "execute_result",
          "data": {
            "text/html": [
              "<div>\n",
              "<style scoped>\n",
              "    .dataframe tbody tr th:only-of-type {\n",
              "        vertical-align: middle;\n",
              "    }\n",
              "\n",
              "    .dataframe tbody tr th {\n",
              "        vertical-align: top;\n",
              "    }\n",
              "\n",
              "    .dataframe thead th {\n",
              "        text-align: right;\n",
              "    }\n",
              "</style>\n",
              "<table border=\"1\" class=\"dataframe\">\n",
              "  <thead>\n",
              "    <tr style=\"text-align: right;\">\n",
              "      <th></th>\n",
              "      <th>Loan Status</th>\n",
              "      <th>Current Loan Amount</th>\n",
              "      <th>Term</th>\n",
              "      <th>Credit Score</th>\n",
              "      <th>Annual Income</th>\n",
              "      <th>Years in current job</th>\n",
              "      <th>Home Ownership</th>\n",
              "      <th>Purpose</th>\n",
              "      <th>Monthly Debt</th>\n",
              "      <th>Years of Credit History</th>\n",
              "      <th>Number of Open Accounts</th>\n",
              "      <th>Number of Credit Problems</th>\n",
              "      <th>Current Credit Balance</th>\n",
              "      <th>Maximum Open Credit</th>\n",
              "      <th>Bankruptcies</th>\n",
              "      <th>Tax Liens</th>\n",
              "    </tr>\n",
              "  </thead>\n",
              "  <tbody>\n",
              "    <tr>\n",
              "      <th>0</th>\n",
              "      <td>1</td>\n",
              "      <td>445412.0</td>\n",
              "      <td>1</td>\n",
              "      <td>709.000000</td>\n",
              "      <td>1.167493e+06</td>\n",
              "      <td>8</td>\n",
              "      <td>1</td>\n",
              "      <td>5</td>\n",
              "      <td>5214.74</td>\n",
              "      <td>17.2</td>\n",
              "      <td>6.0</td>\n",
              "      <td>1.0</td>\n",
              "      <td>228190.0</td>\n",
              "      <td>416746.0</td>\n",
              "      <td>1.0</td>\n",
              "      <td>0.0</td>\n",
              "    </tr>\n",
              "    <tr>\n",
              "      <th>1</th>\n",
              "      <td>1</td>\n",
              "      <td>262328.0</td>\n",
              "      <td>1</td>\n",
              "      <td>1076.456089</td>\n",
              "      <td>1.378277e+06</td>\n",
              "      <td>1</td>\n",
              "      <td>1</td>\n",
              "      <td>3</td>\n",
              "      <td>33295.98</td>\n",
              "      <td>21.1</td>\n",
              "      <td>35.0</td>\n",
              "      <td>0.0</td>\n",
              "      <td>229976.0</td>\n",
              "      <td>850784.0</td>\n",
              "      <td>0.0</td>\n",
              "      <td>0.0</td>\n",
              "    </tr>\n",
              "    <tr>\n",
              "      <th>2</th>\n",
              "      <td>1</td>\n",
              "      <td>99999999.0</td>\n",
              "      <td>1</td>\n",
              "      <td>741.000000</td>\n",
              "      <td>2.231892e+06</td>\n",
              "      <td>8</td>\n",
              "      <td>2</td>\n",
              "      <td>3</td>\n",
              "      <td>29200.53</td>\n",
              "      <td>14.9</td>\n",
              "      <td>18.0</td>\n",
              "      <td>1.0</td>\n",
              "      <td>297996.0</td>\n",
              "      <td>750090.0</td>\n",
              "      <td>0.0</td>\n",
              "      <td>0.0</td>\n",
              "    </tr>\n",
              "    <tr>\n",
              "      <th>3</th>\n",
              "      <td>1</td>\n",
              "      <td>347666.0</td>\n",
              "      <td>0</td>\n",
              "      <td>721.000000</td>\n",
              "      <td>8.069490e+05</td>\n",
              "      <td>3</td>\n",
              "      <td>2</td>\n",
              "      <td>3</td>\n",
              "      <td>8741.90</td>\n",
              "      <td>12.0</td>\n",
              "      <td>9.0</td>\n",
              "      <td>0.0</td>\n",
              "      <td>256329.0</td>\n",
              "      <td>386958.0</td>\n",
              "      <td>0.0</td>\n",
              "      <td>0.0</td>\n",
              "    </tr>\n",
              "    <tr>\n",
              "      <th>4</th>\n",
              "      <td>1</td>\n",
              "      <td>176220.0</td>\n",
              "      <td>1</td>\n",
              "      <td>1076.456089</td>\n",
              "      <td>1.378277e+06</td>\n",
              "      <td>5</td>\n",
              "      <td>3</td>\n",
              "      <td>3</td>\n",
              "      <td>20639.70</td>\n",
              "      <td>6.1</td>\n",
              "      <td>15.0</td>\n",
              "      <td>0.0</td>\n",
              "      <td>253460.0</td>\n",
              "      <td>427174.0</td>\n",
              "      <td>0.0</td>\n",
              "      <td>0.0</td>\n",
              "    </tr>\n",
              "  </tbody>\n",
              "</table>\n",
              "</div>"
            ],
            "text/plain": [
              "   Loan Status  Current Loan Amount  ...  Bankruptcies  Tax Liens\n",
              "0            1             445412.0  ...           1.0        0.0\n",
              "1            1             262328.0  ...           0.0        0.0\n",
              "2            1           99999999.0  ...           0.0        0.0\n",
              "3            1             347666.0  ...           0.0        0.0\n",
              "4            1             176220.0  ...           0.0        0.0\n",
              "\n",
              "[5 rows x 16 columns]"
            ]
          },
          "metadata": {
            "tags": []
          },
          "execution_count": 67
        }
      ]
    },
    {
      "cell_type": "code",
      "metadata": {
        "id": "T66VXnufnUjJ",
        "colab_type": "code",
        "colab": {}
      },
      "source": [
        "y = data['Loan Status']\n",
        "X = data.drop(['Loan Status'],axis=1)"
      ],
      "execution_count": 68,
      "outputs": []
    },
    {
      "cell_type": "code",
      "metadata": {
        "id": "Z4dCsqfOnYUA",
        "colab_type": "code",
        "colab": {}
      },
      "source": [
        "from sklearn.model_selection import train_test_split"
      ],
      "execution_count": 69,
      "outputs": []
    },
    {
      "cell_type": "code",
      "metadata": {
        "id": "Shjf5BCrnl8w",
        "colab_type": "code",
        "colab": {}
      },
      "source": [
        "X_train, X_test, y_train, y_test = train_test_split(X, y, test_size=0.2, random_state=10)"
      ],
      "execution_count": 70,
      "outputs": []
    },
    {
      "cell_type": "code",
      "metadata": {
        "id": "ovbp9Za3np-o",
        "colab_type": "code",
        "colab": {}
      },
      "source": [
        "from sklearn.linear_model import LogisticRegression"
      ],
      "execution_count": 71,
      "outputs": []
    },
    {
      "cell_type": "code",
      "metadata": {
        "id": "qwWu5326n7OA",
        "colab_type": "code",
        "colab": {}
      },
      "source": [
        "reg=LogisticRegression()\n",
        "reg.fit(X_train,y_train)\n",
        "logitic = reg.score(X_test,y_test)"
      ],
      "execution_count": 72,
      "outputs": []
    },
    {
      "cell_type": "code",
      "metadata": {
        "id": "KoyWziL1oBO4",
        "colab_type": "code",
        "colab": {}
      },
      "source": [
        "# knn\n",
        "from sklearn.neighbors import KNeighborsClassifier\n",
        "knn=KNeighborsClassifier()\n",
        "knn.fit(X_train,y_train)\n",
        "knn = knn.score(X_test,y_test)"
      ],
      "execution_count": 73,
      "outputs": []
    },
    {
      "cell_type": "code",
      "metadata": {
        "id": "TaJ1Ujp-260i",
        "colab_type": "code",
        "colab": {}
      },
      "source": [
        "# decisiontree\n",
        "from sklearn import tree\n",
        "clf_dt=tree.DecisionTreeClassifier()\n",
        "clf_dt.fit(X_train,y_train)\n",
        "pred=clf_dt.predict(X_test)\n",
        "decision = clf_dt.score(X_test,y_test)"
      ],
      "execution_count": 74,
      "outputs": []
    },
    {
      "cell_type": "code",
      "metadata": {
        "id": "mAVjkmUH3Bgo",
        "colab_type": "code",
        "colab": {}
      },
      "source": [
        "# RandomForest\n",
        "from sklearn.ensemble import RandomForestClassifier\n",
        "clf_rf=RandomForestClassifier()\n",
        "clf_rf.fit(X_train,y_train)\n",
        "random = clf_rf.score(X_test,y_test)"
      ],
      "execution_count": 75,
      "outputs": []
    },
    {
      "cell_type": "code",
      "metadata": {
        "id": "HF_QCMDn3Fyk",
        "colab_type": "code",
        "colab": {}
      },
      "source": [
        "# GradientBoosting\n",
        "from sklearn.ensemble import GradientBoostingClassifier\n",
        "clf_gb=GradientBoostingClassifier()\n",
        "clf_gb.fit(X_train,y_train)\n",
        "gradient = clf_gb.score(X_test,y_test)"
      ],
      "execution_count": 76,
      "outputs": []
    },
    {
      "cell_type": "code",
      "metadata": {
        "id": "G_Bi-dWg-B_K",
        "colab_type": "code",
        "colab": {
          "base_uri": "https://localhost:8080/",
          "height": 265
        },
        "outputId": "94584cc1-aace-4f84-fd0c-5c4131b13f16"
      },
      "source": [
        "import numpy as np\n",
        "\n",
        "height = [logitic,knn,decision,random,gradient]\n",
        " \n",
        "\n",
        "bars = ('logitic regrassion', 'KNN', 'decision tree', 'Random forest', 'Gradient boosting')\n",
        "y_pos = np.arange(len(bars))\n",
        "plt.bar(y_pos, height) \n",
        "plt.xticks(y_pos, bars, color='orange')\n",
        "plt.yticks(color='orange') \n",
        "plt.show()\n",
        "\n",
        "#comparision of different models"
      ],
      "execution_count": 78,
      "outputs": [
        {
          "output_type": "display_data",
          "data": {
            "image/png": "[encoded data removed]",
            "text/plain": [
              "<Figure size 432x288 with 1 Axes>"
            ]
          },
          "metadata": {
            "tags": [],
            "needs_background": "dark"
          }
        }
      ]
    },
    {
      "cell_type": "code",
      "metadata": {
        "id": "gYig8JCd_AsJ",
        "colab_type": "code",
        "colab": {}
      },
      "source": [
        ""
      ],
      "execution_count": null,
      "outputs": []
    }
  ]
}